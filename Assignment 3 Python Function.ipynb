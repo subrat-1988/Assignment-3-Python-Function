{
 "cells": [
  {
   "cell_type": "code",
   "execution_count": null,
   "id": "af6557f5-6832-402c-94d1-abc243bfd5e4",
   "metadata": {},
   "outputs": [],
   "source": [
    "# Python Function Assignment: Theory Questions:"
   ]
  },
  {
   "cell_type": "code",
   "execution_count": null,
   "id": "3ef6b68b-5b6c-47b7-9b4d-1186f2d338f5",
   "metadata": {},
   "outputs": [],
   "source": [
    "# Note: For each theory Question, give at least one example."
   ]
  },
  {
   "cell_type": "code",
   "execution_count": null,
   "id": "adfb500d-efb9-4261-9887-1c1275e49d54",
   "metadata": {},
   "outputs": [],
   "source": [
    "# 1. What is the difference between a function and a method in Python?\n",
    "'''\n",
    "--> In Python, both functions and methods are blocks of reusable code, but they have key differences in how they are used and accessed.\n",
    "# Function:\n",
    "--> A function is a block of code that is independent and can be called anywhere in the program. \n",
    "--> It is defined by using the \"def\" keyword.\n",
    "--> A function is not tied to any specific object.\n",
    "--> It can be called directly by its name.\n",
    "Ex:\n",
    "def greet(name):\n",
    "    return f\"Hello, {name}!\"\n",
    "\n",
    "print(greet(\"Sanjay\"))  # Output: Hello, Sanjay!\n",
    "\n",
    "# Method:\n",
    "--> A method is a function that is associated with an object. \n",
    "--> Method belongs to a class. It is called by using an object instance of the class.\n",
    "--> The first parameter of a method is usually self, which refers to the instance.\n",
    "Ex:\n",
    "class Person:\n",
    "     def __init__(self, name):\n",
    "         self.name = name\n",
    "\n",
    "    def greet(self):\n",
    "        return f\"Hello, my name is {self.name}.\"\n",
    "\n",
    "# Creating an instance of Person.\n",
    "p = Person(\"Ajay\")\n",
    "print(p.greet())  # Output: Hello, my name is Ajay.         \n",
    "\n",
    "'''"
   ]
  },
  {
   "cell_type": "code",
   "execution_count": 6,
   "id": "1ae32298-c49c-4e64-84bb-143c66377717",
   "metadata": {},
   "outputs": [
    {
     "name": "stdout",
     "output_type": "stream",
     "text": [
      "Hello, my name is Ajay.\n"
     ]
    }
   ],
   "source": [
    "class Person:\n",
    "     def __init__(self, name):\n",
    "         self.name = name\n",
    "\n",
    "     def greet(self):\n",
    "        return f\"Hello, my name is {self.name}.\"\n",
    "         \n",
    "# Creating an instance of Person.\n",
    "p = Person(\"Ajay\")\n",
    "print(p.greet())    "
   ]
  },
  {
   "cell_type": "code",
   "execution_count": 1,
   "id": "f105e03e-7341-4113-88de-f1267863bca7",
   "metadata": {},
   "outputs": [
    {
     "name": "stdout",
     "output_type": "stream",
     "text": [
      "7\n",
      "7\n"
     ]
    }
   ],
   "source": [
    "# Function (Independent)\n",
    "def add(x, y):\n",
    "    return x + y\n",
    "\n",
    "print(add(3, 4))  # Output: 7\n",
    "\n",
    "# Method (Inside Class)\n",
    "class Calculator:\n",
    "    def add(self, x, y):\n",
    "        return x + y\n",
    "\n",
    "calc = Calculator()\n",
    "print(calc.add(3, 4))  # Output: 7"
   ]
  },
  {
   "cell_type": "code",
   "execution_count": null,
   "id": "2f85290d-b1bf-4ba1-b23b-7c81d8f5aad0",
   "metadata": {},
   "outputs": [],
   "source": [
    "# 2. Explain the concept of function arguments and parameters in Python.\n",
    "'''\n",
    "--> In Python, parameters and arguments are closely related to functions. But they refer to different things.\n",
    "--> Parameters: \n",
    "--> Variables listed inside the parentheses in a function definition is called parameters.\n",
    "--> They act as placeholders for the values that will be passed into the function.\n",
    "Ex:\n",
    "def greet(name):  # 'name' is a parameter\n",
    "    print(f\"Hello, {name}!\")\n",
    "\n",
    "--> Arguments:\n",
    "--> The actual values passed to a function when a function is called.\n",
    "--> These are the data we are providing to a function, so that the function will be performed its task.\n",
    "Ex:\n",
    "greet(\"Sanjay\")  # \"Sanjay\" is an argument.\n",
    "\n",
    "'''"
   ]
  },
  {
   "cell_type": "code",
   "execution_count": 3,
   "id": "32a5b61c-61c1-44b5-8405-42ba1a491685",
   "metadata": {},
   "outputs": [
    {
     "name": "stdout",
     "output_type": "stream",
     "text": [
      "Hello, Sanjay!\n"
     ]
    }
   ],
   "source": [
    "def greet(name):  # 'name' is a parameter.\n",
    "    print(f\"Hello, {name}!\")\n",
    "greet(\"Sanjay\")   # \"Sanjay\" is an argument."
   ]
  },
  {
   "cell_type": "code",
   "execution_count": null,
   "id": "118b8692-66c2-4169-ae85-ed1bed2d6574",
   "metadata": {},
   "outputs": [],
   "source": [
    "# 3. What are the different ways to define and call a function in Python?\n",
    "'''\n",
    "-->  In Python, functions can be defined and called in various ways depending on the situation.\n",
    "--> Defining Functions:\n",
    "EX: Regular function definition:\n",
    "def greet():\n",
    "     print(\"Hello!\")\n",
    "\n",
    "# Function with Parameters:\n",
    "def greet(name):\n",
    "    print(f\"Hello, {name}!\")\n",
    "\n",
    "# Function with Default Parameters:\n",
    "def greet(name=\"Sanjay\"):\n",
    "    print(f\"Hello, {name}!\")\n",
    "\n",
    "# Lambda (Anonymous) Function:\n",
    "add = lambda x, y: x + y\n",
    "print(add(2, 3))\n",
    "\n",
    "--> Calling Functions:\n",
    "# Basic Call:\n",
    "greet()  # Calling greet with no arguments.\n",
    "\n",
    "# Calling with Positional Arguments:\n",
    "greet(\"Sanjay\")\n",
    "\n",
    "# Calling with Keyword  Arguments:\n",
    "greet(name=\"Sanjay\")\n",
    "\n",
    "# Calling with Default Arguments:\n",
    "greet()  # Using default value\n",
    "\n",
    "# Passing a Function as an Argument:\n",
    "def totalsum(func, x, y):\n",
    "    return func(x, y)\n",
    "\n",
    "def add(a, b):\n",
    "    return a + b\n",
    "\n",
    "print(totalsum(add, 3, 5))  # Output: 8\n",
    "'''"
   ]
  },
  {
   "cell_type": "code",
   "execution_count": 13,
   "id": "d13bcca1-0d29-43aa-8750-5ca5d6b5adf8",
   "metadata": {},
   "outputs": [
    {
     "name": "stdout",
     "output_type": "stream",
     "text": [
      "5\n"
     ]
    }
   ],
   "source": [
    "add = lambda x, y: x + y\n",
    "print(add(2, 3))"
   ]
  },
  {
   "cell_type": "code",
   "execution_count": 14,
   "id": "40602329-2caa-40f3-8757-35235f43a904",
   "metadata": {},
   "outputs": [
    {
     "name": "stdout",
     "output_type": "stream",
     "text": [
      "8\n"
     ]
    }
   ],
   "source": [
    "def totalsum(func, x, y):\n",
    "    return func(x, y)\n",
    "\n",
    "def add(a, b):\n",
    "    return a + b\n",
    "\n",
    "print(totalsum(add, 3, 5))"
   ]
  },
  {
   "cell_type": "code",
   "execution_count": null,
   "id": "3f2051c1-709d-487b-83fe-c3b4e6bd61b0",
   "metadata": {},
   "outputs": [],
   "source": [
    "# 4. What is the purpose of the `return` statement in a Python function?\n",
    "'''\n",
    "--> In Python, the return statement is used to return a result back from a function.\n",
    "--> It shows functions output values after performing a task.\n",
    "--> Return statement also ends the function's execution.\n",
    "Ex:\n",
    "def add(a, b):\n",
    "    return a + b\n",
    "\n",
    "result = add(3, 5)\n",
    "print(result)\n",
    "'''"
   ]
  },
  {
   "cell_type": "code",
   "execution_count": 15,
   "id": "ee9eff1a-b0cf-427c-84ec-7f1f59129449",
   "metadata": {},
   "outputs": [
    {
     "name": "stdout",
     "output_type": "stream",
     "text": [
      "8\n"
     ]
    }
   ],
   "source": [
    "def add(a, b):\n",
    "    return a + b\n",
    "\n",
    "result = add(3, 5)\n",
    "print(result)"
   ]
  },
  {
   "cell_type": "code",
   "execution_count": null,
   "id": "8b997fb8-45aa-48ba-a36c-f9a5f116a1d4",
   "metadata": {},
   "outputs": [],
   "source": [
    "# 5. What are iterators in Python and how do they differ from iterables?\n",
    "'''\n",
    "--> Iterator: \n",
    "--> An iterator is an object that represents a stream of data. \n",
    "--> It returns data one element at a time when we call next() on it.\n",
    "--> To be an iterator, an object must implement the iter() and next().\n",
    "Ex:\n",
    "s = \"pwskills\"\n",
    "t = iter(s)\n",
    "next(t)\n",
    "\n",
    "--> Iterable:\n",
    "--> An iterable is any python object or sequential structure or data structure that is capable of returning its member one at a time.\n",
    "--> Permitting it to be iterated over in a for loop.\n",
    "--> List, tupple, set, string, dictionary are iterables.\n",
    "Ex:\n",
    "for i in [\"Apple\",\"Banana\",\"Pattato\",1,3]:\n",
    "    print(i)\n",
    "'''"
   ]
  },
  {
   "cell_type": "code",
   "execution_count": 1,
   "id": "1bb8614e-b70c-45e3-aab0-d225162f26fb",
   "metadata": {},
   "outputs": [
    {
     "data": {
      "text/plain": [
       "'p'"
      ]
     },
     "execution_count": 1,
     "metadata": {},
     "output_type": "execute_result"
    }
   ],
   "source": [
    "s = \"pwskills\"\n",
    "t = iter(s)\n",
    "next(t)"
   ]
  },
  {
   "cell_type": "code",
   "execution_count": 2,
   "id": "3155b002-8562-4bf1-b12d-0b22aba0ec50",
   "metadata": {},
   "outputs": [
    {
     "name": "stdout",
     "output_type": "stream",
     "text": [
      "Apple\n",
      "Banana\n",
      "Pattato\n",
      "1\n",
      "3\n"
     ]
    }
   ],
   "source": [
    "for i in [\"Apple\",\"Banana\",\"Pattato\",1,3]:\n",
    "    print(i)"
   ]
  },
  {
   "cell_type": "code",
   "execution_count": null,
   "id": "13ae7f8c-8652-4861-8379-1e2d8433c705",
   "metadata": {},
   "outputs": [],
   "source": [
    "# 6. Explain the concept of generators in Python and how they are defined.\n",
    "'''\n",
    "--> Generators: \n",
    "--> A generator is a special type of iterator that yields values one at a time as they are requested, using the yield keyword instead of return.\n",
    "--> Generator is helpful when working with large data sets or infinite sequences.\n",
    "--> \n",
    "Ex:\n",
    "def square_number_generator(n):\n",
    "    for i in range(n):\n",
    "        yield i**2\n",
    "gen = square_number_generator(10)\n",
    "next(gen)\n",
    "'''"
   ]
  },
  {
   "cell_type": "code",
   "execution_count": 3,
   "id": "265c70a8-172f-4cab-a7cd-9b72e74b1f80",
   "metadata": {},
   "outputs": [
    {
     "data": {
      "text/plain": [
       "0"
      ]
     },
     "execution_count": 3,
     "metadata": {},
     "output_type": "execute_result"
    }
   ],
   "source": [
    "def square_number_generator(n):\n",
    "    for i in range(n):\n",
    "        yield i**2\n",
    "gen = square_number_generator(10)\n",
    "next(gen)"
   ]
  },
  {
   "cell_type": "code",
   "execution_count": 4,
   "id": "918d0953-90de-45cb-b720-fd9157733c1b",
   "metadata": {},
   "outputs": [
    {
     "data": {
      "text/plain": [
       "1"
      ]
     },
     "execution_count": 4,
     "metadata": {},
     "output_type": "execute_result"
    }
   ],
   "source": [
    "next(gen)"
   ]
  },
  {
   "cell_type": "code",
   "execution_count": null,
   "id": "dbd0d959-38e4-42aa-b247-35ae38e9dd1a",
   "metadata": {},
   "outputs": [],
   "source": [
    "# 7. What are the advantages of using generators over regular functions?\n",
    "'''\n",
    "--> Regular Function:\n",
    "--> In case regular function, it uses return statement instead of yield statement.\n",
    "--> Regular function executes the code and return the the value in one go.\n",
    "--> In case large data sets, regular function takes more time for execution and also take more memory space to store the return value.\n",
    "EX:\n",
    "def square_number(n):\n",
    "    result = []\n",
    "    for i in range(n):\n",
    "        result.append(i ** 2)\n",
    "    return result\n",
    "square_number(10)\n",
    "\n",
    "--> Generator Function:\n",
    "--> Generator function uses yield statement instead of return return statement.\n",
    "--> yield is creating a generator similar to iterator object.\n",
    "--> It takes less time for execution and yields the value one at a time. \n",
    "Ex:\n",
    "def square_number_generator(n):\n",
    "    for i in range(n):\n",
    "        yield i**2\n",
    "gen = square_number_generator(10)\n",
    "next(gen)\n",
    "\n",
    "'''"
   ]
  },
  {
   "cell_type": "code",
   "execution_count": 5,
   "id": "65b2fa55-2d5e-4864-85b3-2fe978b58166",
   "metadata": {},
   "outputs": [
    {
     "data": {
      "text/plain": [
       "[0, 1, 4, 9, 16, 25, 36, 49, 64, 81]"
      ]
     },
     "execution_count": 5,
     "metadata": {},
     "output_type": "execute_result"
    }
   ],
   "source": [
    "# Regular function: For large data, execution time and memory usage is more.\n",
    "def square_number(n):\n",
    "    result = []\n",
    "    for i in range(n):\n",
    "        result.append(i ** 2)\n",
    "    return result\n",
    "square_number(10)"
   ]
  },
  {
   "cell_type": "code",
   "execution_count": 6,
   "id": "b6a82cbd-c9ac-494d-a245-ce262ea103ef",
   "metadata": {},
   "outputs": [
    {
     "data": {
      "text/plain": [
       "0"
      ]
     },
     "execution_count": 6,
     "metadata": {},
     "output_type": "execute_result"
    }
   ],
   "source": [
    "# Generator function:\n",
    "def square_number_generator(n):\n",
    "    for i in range(n):\n",
    "        yield i**2\n",
    "gen = square_number_generator(10)\n",
    "next(gen)"
   ]
  },
  {
   "cell_type": "code",
   "execution_count": null,
   "id": "df95c896-e63d-4743-917d-d29927a22191",
   "metadata": {},
   "outputs": [],
   "source": [
    "# 8. What is a lambda function in Python and when is it typically used?\n",
    "'''\n",
    "--> Lambda Function:\n",
    "--> A lambda function is an anonymous, inline, short hand function defined using the lambda keyword.\n",
    "--> It can take any number of arguments, but only one expression, which it evaluates and returns.\n",
    "--> Lambda functions are typically used when you need a small function temporarily.\n",
    "--> Especially as an argument to higher-order functions like map(), filter(), and sorted().\n",
    "Ex:\n",
    "add = lambda a, b : a+b\n",
    "add(8, 5)\n",
    "'''"
   ]
  },
  {
   "cell_type": "code",
   "execution_count": 7,
   "id": "35d167ec-dc60-4f37-b923-324e60a1e0c7",
   "metadata": {},
   "outputs": [
    {
     "data": {
      "text/plain": [
       "13"
      ]
     },
     "execution_count": 7,
     "metadata": {},
     "output_type": "execute_result"
    }
   ],
   "source": [
    "add = lambda a, b : a+b\n",
    "add(8, 5)"
   ]
  },
  {
   "cell_type": "code",
   "execution_count": 8,
   "id": "eace7be2-fd99-4fb8-8eb4-b459f5770473",
   "metadata": {},
   "outputs": [
    {
     "data": {
      "text/plain": [
       "['Java', 'Apple', 'Python', 'Data Structure']"
      ]
     },
     "execution_count": 8,
     "metadata": {},
     "output_type": "execute_result"
    }
   ],
   "source": [
    "x = [\"Python\",\"Data Structure\",\"Java\", \"Apple\"]\n",
    "sorted(x, key = lambda x : len(x))"
   ]
  },
  {
   "cell_type": "code",
   "execution_count": null,
   "id": "aeafb3bd-7c4e-40b5-bbe6-a9379f8ddab9",
   "metadata": {},
   "outputs": [],
   "source": [
    "# 9. Explain the purpose and usage of the `map()` function in Python.\n",
    "'''\n",
    "--> In python, the map() function is useful for applying a function to every items in an iterable.\n",
    "--> map() is used to transform data. \n",
    "--> It lets you take a function and apply it to each item in an iterable, returning a new iterable with the results.\n",
    "--> map() is for transforming iterables.\n",
    "--> Works great with lambda or built-in functions.\n",
    "--> Good for clean, concise, and functional-style code.\n",
    "Ex:\n",
    "l = [1,2,3,4,5]\n",
    "list(map(lambda x : x**2, l))\n",
    "'''"
   ]
  },
  {
   "cell_type": "code",
   "execution_count": 9,
   "id": "fb499730-7898-4f02-9dbf-9955fb424c39",
   "metadata": {},
   "outputs": [
    {
     "data": {
      "text/plain": [
       "[1, 4, 9, 16, 25]"
      ]
     },
     "execution_count": 9,
     "metadata": {},
     "output_type": "execute_result"
    }
   ],
   "source": [
    "l = [1,2,3,4,5]\n",
    "list(map(lambda x : x**2, l))"
   ]
  },
  {
   "cell_type": "code",
   "execution_count": 10,
   "id": "a636b984-1270-4003-be13-881d65b93f8b",
   "metadata": {},
   "outputs": [
    {
     "data": {
      "text/plain": [
       "[11, 12, 13, 14, 15]"
      ]
     },
     "execution_count": 10,
     "metadata": {},
     "output_type": "execute_result"
    }
   ],
   "source": [
    "l = [1,2,3,4,5]\n",
    "list(map(lambda x : x+10, l))"
   ]
  },
  {
   "cell_type": "code",
   "execution_count": null,
   "id": "e75e2f45-61a3-40af-8812-83d4a8ea2001",
   "metadata": {},
   "outputs": [],
   "source": [
    "# 10. What is the difference between `map()`, `reduce()`, and `filter()` functions in Python?\n",
    "'''\n",
    "--> map() function:\n",
    "--> map() is useful for transforming iterables.\n",
    "Ex: \n",
    "l = [1,2,3,4,5]\n",
    "list(map(lambda x : x+10, l))\n",
    "\n",
    "--> reduce() function:\n",
    "--> Applies a function cumulatively to the items in an iterable, from left to right, to reduce it to a single value.\n",
    "--> reduce() Combines all items into one.\n",
    "--> reduce() will always take two argument function.\n",
    "Ex: \n",
    "from functools import reduce\n",
    "l = [2,1,3,4,4,5,6]\n",
    "reduce(lambda x,y : x+y, l)\n",
    "\n",
    "--> filter() function:\n",
    "--> it is used to filter elements from an iterable based on some conditions.\n",
    "Ex:\n",
    "l = [2,1,3,4,4,5,6]\n",
    "list(filter(lambda x : x%2 == 0, l))\n",
    "'''"
   ]
  },
  {
   "cell_type": "code",
   "execution_count": 16,
   "id": "a7ce1aeb-8f47-459c-bc7c-6a4046170175",
   "metadata": {},
   "outputs": [
    {
     "name": "stdout",
     "output_type": "stream",
     "text": [
      "56\n"
     ]
    }
   ],
   "source": [
    "from functools import reduce\n",
    "\n",
    "numbers = [1, 2, 3, 4, 5, 6]\n",
    "\n",
    "# filtering even numbers\n",
    "even_nums = filter(lambda x: x % 2 == 0, numbers)        # [2, 4, 6]\n",
    "#print(list(even_nums))\n",
    "\n",
    "# Square the filtered numbers\n",
    "squared = map(lambda x: x**2, even_nums)              # [4, 16, 36]\n",
    "#print(list(squared))\n",
    "\n",
    "# Sum of the squared values\n",
    "result = reduce(lambda x, y: x + y, squared)      # 56\n",
    "\n",
    "print(result)  # Output: 56"
   ]
  },
  {
   "cell_type": "code",
   "execution_count": null,
   "id": "8a99b9ee-fd87-4171-a357-c0059a44b4bd",
   "metadata": {},
   "outputs": [],
   "source": [
    "# 11. Using pen & Paper write the internal mechanism for sum operation using reduce function on this given list:[47,11,42,13];.\n",
    "'''\n",
    "--> reduce() function performs a sum operation internally on the list [47, 11, 42, 13].\n",
    "--> l = [47,11,42,13]\n",
    "--> step-1: x = 47, y = 11 -----> x + y = 47 + 11 = 58\n",
    "--> step-2: x = 58, y = 42 -----> x + y = 58 + 42 = 100\n",
    "--> step-3: x = 100, y = 13 ----> x + y = 100 + 13 = 113\n",
    "---> Final value is 113.\n",
    "'''"
   ]
  },
  {
   "cell_type": "code",
   "execution_count": 17,
   "id": "35e0ea8e-2e31-42c4-9318-63d20999a810",
   "metadata": {},
   "outputs": [
    {
     "name": "stdout",
     "output_type": "stream",
     "text": [
      "113\n"
     ]
    }
   ],
   "source": [
    "from functools import reduce\n",
    "\n",
    "l = [47,11,42,13]\n",
    "total = reduce(lambda x, y: x + y, l)\n",
    "print(total)"
   ]
  },
  {
   "cell_type": "code",
   "execution_count": 18,
   "id": "52c486d8-1503-47ab-9974-303b58a320f2",
   "metadata": {},
   "outputs": [
    {
     "data": {
      "text/plain": [
       "113"
      ]
     },
     "execution_count": 18,
     "metadata": {},
     "output_type": "execute_result"
    }
   ],
   "source": [
    "reduce(lambda x, y: x + y, [47, 11, 42, 13])"
   ]
  },
  {
   "cell_type": "code",
   "execution_count": null,
   "id": "76b59dfa-df6c-4d1a-8806-ae97866bd084",
   "metadata": {},
   "outputs": [],
   "source": [
    "# Practical Questions:"
   ]
  },
  {
   "cell_type": "code",
   "execution_count": 46,
   "id": "aa46e4d4-76f5-4619-bdb8-6469b88aca6f",
   "metadata": {},
   "outputs": [
    {
     "data": {
      "text/plain": [
       "[12]"
      ]
     },
     "execution_count": 46,
     "metadata": {},
     "output_type": "execute_result"
    }
   ],
   "source": [
    "# 1. Write a Python function that takes a list of numbers as input and returns the sum of all even numbers in the list.\n",
    "\n",
    "def sum_of_evens(numbers):\n",
    "    return [sum(num for num in numbers if num % 2 == 0)]\n",
    "\n",
    "sum_of_evens([1, 2, 3, 4, 5, 6])"
   ]
  },
  {
   "cell_type": "code",
   "execution_count": 47,
   "id": "273358c5-642a-4f61-8d4d-eca140b015b1",
   "metadata": {},
   "outputs": [
    {
     "name": "stdout",
     "output_type": "stream",
     "text": [
      "[12]\n"
     ]
    }
   ],
   "source": [
    "from functools import reduce\n",
    "l = [1, 2, 3, 4, 5, 6]\n",
    "\n",
    "even_nums = filter(lambda x : x % 2 == 0, l)\n",
    "\n",
    "sum_of_even_nums = [reduce(lambda x, y : x + y, even_nums)]\n",
    "print(sum_of_even_nums)"
   ]
  },
  {
   "cell_type": "code",
   "execution_count": 42,
   "id": "29c5624d-2c47-4047-8d5c-151c5755d766",
   "metadata": {},
   "outputs": [
    {
     "data": {
      "text/plain": [
       "'sllikswp'"
      ]
     },
     "execution_count": 42,
     "metadata": {},
     "output_type": "execute_result"
    }
   ],
   "source": [
    "# 2. Create a Python function that accepts a string and returns the reverse of that string.\n",
    "\n",
    "def reverse_string(s):\n",
    "    return s[::-1]\n",
    "\n",
    "reverse_string(\"pwskills\")"
   ]
  },
  {
   "cell_type": "code",
   "execution_count": 44,
   "id": "d519de01-faa1-4869-a465-8b70bb1991c6",
   "metadata": {},
   "outputs": [
    {
     "data": {
      "text/plain": [
       "[4, 9, 16, 25, 81, 49]"
      ]
     },
     "execution_count": 44,
     "metadata": {},
     "output_type": "execute_result"
    }
   ],
   "source": [
    "# 3. Implement a Python function that takes a list of integers and returns a new list containing the squares of each number.\n",
    "\n",
    "def square_number(n):\n",
    "    result = []\n",
    "    for i in n:\n",
    "        result.append(i ** 2)\n",
    "    return result\n",
    "square_number([2,3,4,5,9,7])"
   ]
  },
  {
   "cell_type": "code",
   "execution_count": 45,
   "id": "083d1d3f-8964-40b5-accf-0e8eb93d58b6",
   "metadata": {},
   "outputs": [
    {
     "data": {
      "text/plain": [
       "[4, 9, 16, 25, 81, 49]"
      ]
     },
     "execution_count": 45,
     "metadata": {},
     "output_type": "execute_result"
    }
   ],
   "source": [
    "def square_numbers(numbers):\n",
    "    return [num ** 2 for num in numbers]\n",
    "square_numbers([2,3,4,5,9,7])"
   ]
  },
  {
   "cell_type": "code",
   "execution_count": 4,
   "id": "632d0257-cd81-423c-a913-6cd29a168566",
   "metadata": {},
   "outputs": [
    {
     "name": "stdin",
     "output_type": "stream",
     "text": [
      "Enter a number between 1 and 200:  4\n"
     ]
    },
    {
     "name": "stdout",
     "output_type": "stream",
     "text": [
      "4 is not a prime number.\n"
     ]
    }
   ],
   "source": [
    "# 4. Write a Python function that checks if a given number is prime or not from 1 to 200.\n",
    "\n",
    "def is_prime(n):\n",
    "    \"\"\"Checking if a number from 1 to 200 is a prime number.\"\"\"\n",
    "    if n < 2 or n > 200:\n",
    "        return False\n",
    "    for i in range(2, int(n ** 0.5) + 1):\n",
    "        if n % i == 0:\n",
    "            return False\n",
    "    return True\n",
    "\n",
    "# User input\n",
    "try:\n",
    "    num = int(input(\"Enter a number between 1 and 200: \"))\n",
    "    if is_prime(num):\n",
    "        print(f\"{num} is a prime number.\")\n",
    "    else:\n",
    "        print(f\"{num} is not a prime number.\")\n",
    "except ValueError:\n",
    "    print(\"Please enter a valid integer.\")"
   ]
  },
  {
   "cell_type": "code",
   "execution_count": 4,
   "id": "e1a73d96-0881-4cb3-b3c4-5ecb303c311f",
   "metadata": {},
   "outputs": [
    {
     "name": "stdout",
     "output_type": "stream",
     "text": [
      "1 is not a prime number.\n",
      "2 is a prime number.\n",
      "3 is a prime number.\n",
      "4 is not a prime number.\n",
      "5 is a prime number.\n",
      "6 is not a prime number.\n",
      "7 is a prime number.\n",
      "8 is not a prime number.\n",
      "9 is not a prime number.\n",
      "10 is not a prime number.\n",
      "11 is a prime number.\n",
      "12 is not a prime number.\n",
      "13 is a prime number.\n",
      "14 is not a prime number.\n",
      "15 is not a prime number.\n",
      "16 is not a prime number.\n",
      "17 is a prime number.\n",
      "18 is not a prime number.\n",
      "19 is a prime number.\n",
      "20 is not a prime number.\n",
      "21 is not a prime number.\n",
      "22 is not a prime number.\n",
      "23 is a prime number.\n",
      "24 is not a prime number.\n",
      "25 is not a prime number.\n",
      "26 is not a prime number.\n",
      "27 is not a prime number.\n",
      "28 is not a prime number.\n",
      "29 is a prime number.\n",
      "30 is not a prime number.\n",
      "31 is a prime number.\n",
      "32 is not a prime number.\n",
      "33 is not a prime number.\n",
      "34 is not a prime number.\n",
      "35 is not a prime number.\n",
      "36 is not a prime number.\n",
      "37 is a prime number.\n",
      "38 is not a prime number.\n",
      "39 is not a prime number.\n",
      "40 is not a prime number.\n",
      "41 is a prime number.\n",
      "42 is not a prime number.\n",
      "43 is a prime number.\n",
      "44 is not a prime number.\n",
      "45 is not a prime number.\n",
      "46 is not a prime number.\n",
      "47 is a prime number.\n",
      "48 is not a prime number.\n",
      "49 is not a prime number.\n",
      "50 is not a prime number.\n",
      "51 is not a prime number.\n",
      "52 is not a prime number.\n",
      "53 is a prime number.\n",
      "54 is not a prime number.\n",
      "55 is not a prime number.\n",
      "56 is not a prime number.\n",
      "57 is not a prime number.\n",
      "58 is not a prime number.\n",
      "59 is a prime number.\n",
      "60 is not a prime number.\n",
      "61 is a prime number.\n",
      "62 is not a prime number.\n",
      "63 is not a prime number.\n",
      "64 is not a prime number.\n",
      "65 is not a prime number.\n",
      "66 is not a prime number.\n",
      "67 is a prime number.\n",
      "68 is not a prime number.\n",
      "69 is not a prime number.\n",
      "70 is not a prime number.\n",
      "71 is a prime number.\n",
      "72 is not a prime number.\n",
      "73 is a prime number.\n",
      "74 is not a prime number.\n",
      "75 is not a prime number.\n",
      "76 is not a prime number.\n",
      "77 is not a prime number.\n",
      "78 is not a prime number.\n",
      "79 is a prime number.\n",
      "80 is not a prime number.\n",
      "81 is not a prime number.\n",
      "82 is not a prime number.\n",
      "83 is a prime number.\n",
      "84 is not a prime number.\n",
      "85 is not a prime number.\n",
      "86 is not a prime number.\n",
      "87 is not a prime number.\n",
      "88 is not a prime number.\n",
      "89 is a prime number.\n",
      "90 is not a prime number.\n",
      "91 is not a prime number.\n",
      "92 is not a prime number.\n",
      "93 is not a prime number.\n",
      "94 is not a prime number.\n",
      "95 is not a prime number.\n",
      "96 is not a prime number.\n",
      "97 is a prime number.\n",
      "98 is not a prime number.\n",
      "99 is not a prime number.\n",
      "100 is not a prime number.\n",
      "101 is a prime number.\n",
      "102 is not a prime number.\n",
      "103 is a prime number.\n",
      "104 is not a prime number.\n",
      "105 is not a prime number.\n",
      "106 is not a prime number.\n",
      "107 is a prime number.\n",
      "108 is not a prime number.\n",
      "109 is a prime number.\n",
      "110 is not a prime number.\n",
      "111 is not a prime number.\n",
      "112 is not a prime number.\n",
      "113 is a prime number.\n",
      "114 is not a prime number.\n",
      "115 is not a prime number.\n",
      "116 is not a prime number.\n",
      "117 is not a prime number.\n",
      "118 is not a prime number.\n",
      "119 is not a prime number.\n",
      "120 is not a prime number.\n",
      "121 is not a prime number.\n",
      "122 is not a prime number.\n",
      "123 is not a prime number.\n",
      "124 is not a prime number.\n",
      "125 is not a prime number.\n",
      "126 is not a prime number.\n",
      "127 is a prime number.\n",
      "128 is not a prime number.\n",
      "129 is not a prime number.\n",
      "130 is not a prime number.\n",
      "131 is a prime number.\n",
      "132 is not a prime number.\n",
      "133 is not a prime number.\n",
      "134 is not a prime number.\n",
      "135 is not a prime number.\n",
      "136 is not a prime number.\n",
      "137 is a prime number.\n",
      "138 is not a prime number.\n",
      "139 is a prime number.\n",
      "140 is not a prime number.\n",
      "141 is not a prime number.\n",
      "142 is not a prime number.\n",
      "143 is not a prime number.\n",
      "144 is not a prime number.\n",
      "145 is not a prime number.\n",
      "146 is not a prime number.\n",
      "147 is not a prime number.\n",
      "148 is not a prime number.\n",
      "149 is a prime number.\n",
      "150 is not a prime number.\n",
      "151 is a prime number.\n",
      "152 is not a prime number.\n",
      "153 is not a prime number.\n",
      "154 is not a prime number.\n",
      "155 is not a prime number.\n",
      "156 is not a prime number.\n",
      "157 is a prime number.\n",
      "158 is not a prime number.\n",
      "159 is not a prime number.\n",
      "160 is not a prime number.\n",
      "161 is not a prime number.\n",
      "162 is not a prime number.\n",
      "163 is a prime number.\n",
      "164 is not a prime number.\n",
      "165 is not a prime number.\n",
      "166 is not a prime number.\n",
      "167 is a prime number.\n",
      "168 is not a prime number.\n",
      "169 is not a prime number.\n",
      "170 is not a prime number.\n",
      "171 is not a prime number.\n",
      "172 is not a prime number.\n",
      "173 is a prime number.\n",
      "174 is not a prime number.\n",
      "175 is not a prime number.\n",
      "176 is not a prime number.\n",
      "177 is not a prime number.\n",
      "178 is not a prime number.\n",
      "179 is a prime number.\n",
      "180 is not a prime number.\n",
      "181 is a prime number.\n",
      "182 is not a prime number.\n",
      "183 is not a prime number.\n",
      "184 is not a prime number.\n",
      "185 is not a prime number.\n",
      "186 is not a prime number.\n",
      "187 is not a prime number.\n",
      "188 is not a prime number.\n",
      "189 is not a prime number.\n",
      "190 is not a prime number.\n",
      "191 is a prime number.\n",
      "192 is not a prime number.\n",
      "193 is a prime number.\n",
      "194 is not a prime number.\n",
      "195 is not a prime number.\n",
      "196 is not a prime number.\n",
      "197 is a prime number.\n",
      "198 is not a prime number.\n",
      "199 is a prime number.\n",
      "200 is not a prime number.\n"
     ]
    }
   ],
   "source": [
    "# Checking and printing prime numbers from 1 to 200.\n",
    "def is_prime(n):\n",
    "    if n <= 1:\n",
    "        return False\n",
    "    if n == 2:\n",
    "        return True\n",
    "    if n % 2 == 0:\n",
    "        return False\n",
    "    for i in range(3, int(n**0.5) + 1, 2):\n",
    "        if n % i == 0:\n",
    "            return False\n",
    "    return True\n",
    "\n",
    "# Checking and printing whether each number from 1 to 200 is prime or not.\n",
    "for num in range(1, 201):\n",
    "    if is_prime(num):\n",
    "        print(f\"{num} is a prime number.\")\n",
    "    else:\n",
    "        print(f\"{num} is not a prime number.\")\n"
   ]
  },
  {
   "cell_type": "code",
   "execution_count": 5,
   "id": "eb7a0355-4935-4a8c-aba8-653529658c70",
   "metadata": {},
   "outputs": [
    {
     "name": "stdout",
     "output_type": "stream",
     "text": [
      "[2, 3, 5, 7, 11, 13, 17, 19, 23, 29, 31, 37, 41, 43, 47, 53, 59, 61, 67, 71, 73, 79, 83, 89, 97, 101, 103, 107, 109, 113, 127, 131, 137, 139, 149, 151, 157, 163, 167, 173, 179, 181, 191, 193, 197, 199]\n"
     ]
    }
   ],
   "source": [
    "# Checking and printing prime numbers from 1 to 200 in a list.\n",
    "def is_prime(n):\n",
    "    if n <= 1:\n",
    "        return False\n",
    "    if n == 2:\n",
    "        return True\n",
    "    if n % 2 == 0:\n",
    "        return False\n",
    "    for i in range(3, int(n**0.5) + 1, 2):\n",
    "        if n % i == 0:\n",
    "            return False\n",
    "    return True\n",
    "\n",
    "def primes_up_to_200():\n",
    "    return [n for n in range(1, 201) if is_prime(n)]\n",
    "\n",
    "prime_list = primes_up_to_200()\n",
    "print(prime_list)"
   ]
  },
  {
   "cell_type": "code",
   "execution_count": 13,
   "id": "0750b970-6939-4f60-867e-0343beb9f101",
   "metadata": {},
   "outputs": [
    {
     "name": "stdout",
     "output_type": "stream",
     "text": [
      "Fibonacci sequence up to 10 terms:\n",
      "0\n",
      "1\n",
      "1\n",
      "2\n",
      "3\n",
      "5\n",
      "8\n",
      "13\n",
      "21\n",
      "34\n"
     ]
    }
   ],
   "source": [
    "# 5. Create an iterator class in Python that generates the Fibonacci sequence up to a specified number of terms.\n",
    "\n",
    "class Fibonacci:\n",
    "    def __init__(self, max_terms):\n",
    "        self.max_terms = max_terms\n",
    "\n",
    "    def __iter__(self):\n",
    "        a, b = 0, 1\n",
    "        for i in range(self.max_terms):\n",
    "            yield a\n",
    "            a, b = b, a + b\n",
    "            \n",
    "n_terms = 10\n",
    "fib = Fibonacci(n_terms)\n",
    "\n",
    "print(f\"Fibonacci sequence up to {n_terms} terms:\")\n",
    "for num in fib:\n",
    "    print(num)"
   ]
  },
  {
   "cell_type": "code",
   "execution_count": 14,
   "id": "657521bc-e6fe-4944-8cab-d4cea7476bbf",
   "metadata": {},
   "outputs": [
    {
     "name": "stdout",
     "output_type": "stream",
     "text": [
      "0\n",
      "1\n",
      "1\n",
      "2\n",
      "3\n",
      "5\n",
      "8\n",
      "13\n",
      "21\n",
      "34\n"
     ]
    }
   ],
   "source": [
    "def fibonacci(n):\n",
    "    a = 0\n",
    "    b = 1\n",
    "    for i in range(n):\n",
    "        yield a\n",
    "        a, b = b, a+b\n",
    "        \n",
    "fib = fibonacci(10)\n",
    "for num in fib:\n",
    "    print(num)"
   ]
  },
  {
   "cell_type": "code",
   "execution_count": 15,
   "id": "3bd2fdfe-1b67-4ed3-bf51-7aa353821368",
   "metadata": {},
   "outputs": [
    {
     "name": "stdout",
     "output_type": "stream",
     "text": [
      "Powers of 2 up to exponent 10:\n",
      "1\n",
      "2\n",
      "4\n",
      "8\n",
      "16\n",
      "32\n",
      "64\n",
      "128\n",
      "256\n",
      "512\n",
      "1024\n"
     ]
    }
   ],
   "source": [
    "# 6. Write a generator function in Python that yields the powers of 2 up to a given exponent.\n",
    "\n",
    "def powers_of_two(max_exponent):\n",
    "    for exp in range(max_exponent + 1):\n",
    "        yield 2 ** exp\n",
    "\n",
    "print(\"Powers of 2 up to exponent 10:\")\n",
    "for power in powers_of_two(10):\n",
    "    print(power)"
   ]
  },
  {
   "cell_type": "code",
   "execution_count": 16,
   "id": "b876fff1-8c49-48cd-ade7-ddf000fd65c2",
   "metadata": {},
   "outputs": [
    {
     "name": "stdout",
     "output_type": "stream",
     "text": [
      "Powers of 2 up to exponent 10:\n",
      "1\n",
      "2\n",
      "4\n",
      "8\n",
      "16\n",
      "32\n",
      "64\n",
      "128\n",
      "256\n",
      "512\n",
      "1024\n"
     ]
    }
   ],
   "source": [
    "def powers_of_two(max_exponent):\n",
    "    exp = 0\n",
    "    while exp <= max_exponent:\n",
    "        yield 2 ** exp\n",
    "        exp += 1\n",
    "        \n",
    "print(\"Powers of 2 up to exponent 10:\")\n",
    "for power in powers_of_two(10):\n",
    "    print(power)"
   ]
  },
  {
   "cell_type": "code",
   "execution_count": 5,
   "id": "e887f55a-ecbc-41bb-b434-2b815bc0fe68",
   "metadata": {},
   "outputs": [
    {
     "name": "stdout",
     "output_type": "stream",
     "text": [
      "\n",
      "example1\n",
      "example2\n",
      "example3\n"
     ]
    }
   ],
   "source": [
    "# 7. Implement a generator function that reads a file line by line and yields each line as a string.\n",
    "\n",
    "def read_file_line_by_line(file_path):\n",
    "    with open('example.txt', 'r') as file:\n",
    "        for line in file:\n",
    "            yield line.rstrip('\\n')  # remove newline character\n",
    "\n",
    "for line in read_file_line_by_line('example.txt'):\n",
    "    print(line)"
   ]
  },
  {
   "cell_type": "code",
   "execution_count": 31,
   "id": "251b4c97-1f49-48ef-973e-939efad5ab38",
   "metadata": {},
   "outputs": [
    {
     "name": "stdout",
     "output_type": "stream",
     "text": [
      "[(20, 30, 40, 50)]\n"
     ]
    }
   ],
   "source": [
    "# 8. Use a lambda function in Python to sort a list of tuples based on the second element of each tuple.\n",
    "\n",
    "data = [(1, 50), (2, 30), (3, 40), (4, 20)]\n",
    "\n",
    "new_data = [tuple(sorted(map(lambda x: x[1], data)))]\n",
    "\n",
    "print(new_data)"
   ]
  },
  {
   "cell_type": "code",
   "execution_count": 6,
   "id": "c0de46b9-b2a5-4af7-8d60-eb5d9dc77214",
   "metadata": {},
   "outputs": [
    {
     "name": "stdout",
     "output_type": "stream",
     "text": [
      "Celsius: [0, 10, 20, 30, 37, 100]\n",
      "Fahrenheit: [32.0, 50.0, 68.0, 86.0, 98.6, 212.0]\n"
     ]
    }
   ],
   "source": [
    "# 9. Write a Python program that uses `map()` to convert a list of temperatures from Celsius to Fahrenheit.\n",
    "\n",
    "# Celsius to Fahrenheit conversion formula: F = (C * 9/5) + 32\n",
    "\n",
    "celsius_temps = [0, 10, 20, 30, 37, 100]\n",
    "\n",
    "def celsius_to_fahrenheit(c):\n",
    "    return (c * 9/5) + 32\n",
    "\n",
    "fahrenheit_temps = list(map(celsius_to_fahrenheit, celsius_temps))\n",
    "\n",
    "print(\"Celsius:\", celsius_temps)\n",
    "print(\"Fahrenheit:\", fahrenheit_temps)"
   ]
  },
  {
   "cell_type": "code",
   "execution_count": 9,
   "id": "709b8647-b5c9-48dc-ad7c-5091fab6ea36",
   "metadata": {},
   "outputs": [
    {
     "name": "stdin",
     "output_type": "stream",
     "text": [
      "Enter a string:  HELLO WORLD\n"
     ]
    },
    {
     "name": "stdout",
     "output_type": "stream",
     "text": [
      "String without vowels: HLL WRLD\n"
     ]
    }
   ],
   "source": [
    "# 10. Create a Python program that uses `filter()` to remove all the vowels from a given string.\n",
    "\n",
    "def is_not_vowel(char):\n",
    "    return char.lower() not in 'aeiou'\n",
    "\n",
    "input_str = input(\"Enter a string: \")\n",
    "\n",
    "remove_vowels = ''.join(filter(is_not_vowel, input_str))\n",
    "\n",
    "print(\"String without vowels:\", remove_vowels)"
   ]
  },
  {
   "cell_type": "code",
   "execution_count": 10,
   "id": "ed01f4a0-6e91-4307-a74b-17aa5b37474e",
   "metadata": {},
   "outputs": [
    {
     "name": "stdin",
     "output_type": "stream",
     "text": [
      "Enter a string:  hello world\n"
     ]
    },
    {
     "name": "stdout",
     "output_type": "stream",
     "text": [
      "String without vowels: hll wrld\n"
     ]
    }
   ],
   "source": [
    "# Using lambda function with filter().\n",
    "\n",
    "input_str = input(\"Enter a string: \")\n",
    "\n",
    "remove_vowels = ''.join(filter(lambda ch: ch.lower() not in 'aeiou', input_str))\n",
    "\n",
    "print(\"String without vowels:\", remove_vowels)"
   ]
  },
  {
   "cell_type": "code",
   "execution_count": null,
   "id": "8f1a6ddc-f503-4088-917b-57d44a31139f",
   "metadata": {},
   "outputs": [],
   "source": [
    "# 11) Imagine an accounting routine used in a book shop. It works on a list with sublists, which look like this:\n",
    "'''\n",
    "Order Number            Book Title & Author                      Quantity       Price per item\n",
    "34587                Learning Python, Mark Lutz                      4                 40.95                               \n",
    "98762                Programming Python, Mark lutz                   5                 56.80\n",
    "77226                Head First Python, Paul Barry                   3                 32.95\n",
    "88112                Einfuhrung in Python3, Bernd klein              3                 24.99\n",
    "\n",
    "Write a Python program, which returns a list with 2-tuples. \n",
    "Each tuple consists of the order number and the product of the price per item and the quantity. \n",
    "The product should be increased by 10,- € if the value of the order is smaller than 100,00 €. \n",
    "Write a Python program using lambda and map.\n",
    "'''\n"
   ]
  },
  {
   "cell_type": "code",
   "execution_count": 13,
   "id": "b4d4faa0-e350-4ced-9740-f33f6b8acee7",
   "metadata": {},
   "outputs": [
    {
     "name": "stdout",
     "output_type": "stream",
     "text": [
      "[(34587, 173.8, 4), (98762, 294.0, 5), (77226, 108.85, 3), (88112, 84.97, 3)]\n"
     ]
    }
   ],
   "source": [
    "orders = [\n",
    "    [34587, \"Learning Python, Mark Lutz\", 4, 40.95],\n",
    "    [98762, \"Programming Python, Mark Lutz\", 5, 56.80],\n",
    "    [77226, \"Head First Python, Paul Barry\", 3, 32.95],\n",
    "    [88112, \"Einfuhrung in Python3, Bernd Klein\", 3, 24.99]\n",
    "]\n",
    "\n",
    "final_orders = list(map( lambda order: (order[0], round(order[2] * order[3] + (10 if order[2] * order[3] < 10000 else 0), 2), order[2] ), orders))\n",
    "\n",
    "print(final_orders)"
   ]
  },
  {
   "cell_type": "code",
   "execution_count": null,
   "id": "cbbcb7da-aa33-48cc-a6b2-9aaf6edc45d6",
   "metadata": {},
   "outputs": [],
   "source": []
  }
 ],
 "metadata": {
  "kernelspec": {
   "display_name": "Python 3 (ipykernel)",
   "language": "python",
   "name": "python3"
  },
  "language_info": {
   "codemirror_mode": {
    "name": "ipython",
    "version": 3
   },
   "file_extension": ".py",
   "mimetype": "text/x-python",
   "name": "python",
   "nbconvert_exporter": "python",
   "pygments_lexer": "ipython3",
   "version": "3.13.1"
  }
 },
 "nbformat": 4,
 "nbformat_minor": 5
}
